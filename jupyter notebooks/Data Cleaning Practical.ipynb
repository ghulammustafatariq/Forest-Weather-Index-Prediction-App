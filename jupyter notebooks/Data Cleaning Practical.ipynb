{
 "cells": [
  {
   "cell_type": "markdown",
   "id": "e854e08d",
   "metadata": {},
   "source": [
    "## Import Libararies"
   ]
  },
  {
   "cell_type": "code",
   "execution_count": null,
   "id": "6b683e13",
   "metadata": {},
   "outputs": [],
   "source": [
    "import numpy as np\n",
    "import pandas as pd"
   ]
  },
  {
   "cell_type": "markdown",
   "id": "560689c6",
   "metadata": {},
   "source": [
    "## Read Data"
   ]
  },
  {
   "cell_type": "code",
   "execution_count": null,
   "id": "482e52b6",
   "metadata": {},
   "outputs": [],
   "source": [
    "df = pd.read_csv(\"Algerian_forest_fires_dataset_UPDATE.csv\",header=1)\n",
    "df.head()"
   ]
  },
  {
   "cell_type": "markdown",
   "id": "4ae7616e",
   "metadata": {},
   "source": [
    "## Information Of Data"
   ]
  },
  {
   "cell_type": "code",
   "execution_count": null,
   "id": "a2b41f22",
   "metadata": {},
   "outputs": [],
   "source": [
    "df.info()"
   ]
  },
  {
   "cell_type": "markdown",
   "id": "31bdba31",
   "metadata": {},
   "source": [
    "# Starting Data Cleaning Process"
   ]
  },
  {
   "cell_type": "code",
   "execution_count": null,
   "id": "105691ee",
   "metadata": {},
   "outputs": [],
   "source": [
    "## Checking null Values\n",
    "df.isnull().sum()   "
   ]
  },
  {
   "cell_type": "code",
   "execution_count": null,
   "id": "63c4de92",
   "metadata": {},
   "outputs": [],
   "source": [
    "## Filtering null values\n",
    "df[df.isnull().any(axis=1)]"
   ]
  },
  {
   "cell_type": "code",
   "execution_count": null,
   "id": "d5f97db3",
   "metadata": {},
   "outputs": [],
   "source": [
    "## Drop null values\n",
    "df=df.dropna().reset_index(drop=True)  "
   ]
  },
  {
   "cell_type": "code",
   "execution_count": null,
   "id": "96e8d783",
   "metadata": {},
   "outputs": [],
   "source": [
    "## checking info\n",
    "df.info()"
   ]
  },
  {
   "cell_type": "code",
   "execution_count": null,
   "id": "9cf5b6c9",
   "metadata": {},
   "outputs": [],
   "source": [
    "## Actually Data before row 122 is for diffrent region and after 122 is for diffrent region\n",
    "df.iloc[120:130,:]"
   ]
  },
  {
   "cell_type": "code",
   "execution_count": null,
   "id": "0e761938",
   "metadata": {},
   "outputs": [],
   "source": [
    "## Before 122 row region is assign to 0 an after 122 region is assigned to 1\n",
    "df.loc[:122,\"Region\"]=0\n",
    "df.loc[123:,\"Region\"]=1"
   ]
  },
  {
   "cell_type": "code",
   "execution_count": null,
   "id": "1a80c0d1",
   "metadata": {},
   "outputs": [],
   "source": [
    "df.info()"
   ]
  },
  {
   "cell_type": "code",
   "execution_count": null,
   "id": "7ce25574",
   "metadata": {},
   "outputs": [],
   "source": [
    "## drop 122 row that is actually a headers of data\n",
    "df=df.drop(122).reset_index(drop=True)"
   ]
  },
  {
   "cell_type": "code",
   "execution_count": null,
   "id": "7a80660b",
   "metadata": {},
   "outputs": [],
   "source": [
    "## now that row has benn deleted\n",
    "df.iloc[120:130,:]"
   ]
  },
  {
   "cell_type": "code",
   "execution_count": null,
   "id": "1462352f",
   "metadata": {},
   "outputs": [],
   "source": [
    "## change the datatype of region\n",
    "df[\"Region\"]=df[\"Region\"].astype(\"int\")"
   ]
  },
  {
   "cell_type": "code",
   "execution_count": null,
   "id": "4104aa6c",
   "metadata": {},
   "outputs": [],
   "source": [
    "df.columns"
   ]
  },
  {
   "cell_type": "code",
   "execution_count": null,
   "id": "4cd38e7d",
   "metadata": {},
   "outputs": [],
   "source": [
    "## Remove the spaces from column names\n",
    "df.columns=df.columns.str.strip()\n",
    "df.columns"
   ]
  },
  {
   "cell_type": "code",
   "execution_count": null,
   "id": "e701f194",
   "metadata": {},
   "outputs": [],
   "source": [
    "## Change the day month year Temperature RH Ws to int datatype\n",
    "df[['day', 'month', 'year', 'Temperature', 'RH', 'Ws']] = df[['day', 'month', 'year', 'Temperature', 'RH', 'Ws']].astype(int)\n",
    "df.info()"
   ]
  },
  {
   "cell_type": "code",
   "execution_count": null,
   "id": "ff19bf30",
   "metadata": {},
   "outputs": [],
   "source": [
    "## check which columns are object datatype\n",
    "objects = df.select_dtypes(include=['object']).columns\n",
    "objects"
   ]
  },
  {
   "cell_type": "code",
   "execution_count": null,
   "id": "7c6057dc",
   "metadata": {},
   "outputs": [],
   "source": [
    "## change all object datatype to float except Classes \n",
    "for i in objects:\n",
    "    if i != 'Classes':\n",
    "        df[i] = df[i].astype(float)\n",
    "\n",
    "df.info()"
   ]
  },
  {
   "cell_type": "code",
   "execution_count": null,
   "id": "4a503d4e",
   "metadata": {},
   "outputs": [],
   "source": [
    "## check the unique values of classes column\n",
    "df['Classes'].unique()"
   ]
  },
  {
   "cell_type": "code",
   "execution_count": null,
   "id": "d1d5c445",
   "metadata": {},
   "outputs": [],
   "source": [
    "df[\"Classes\"]=df[\"Classes\"].str.strip()\n",
    "df['Classes'].unique()\n"
   ]
  },
  {
   "cell_type": "code",
   "execution_count": null,
   "id": "821f0809",
   "metadata": {},
   "outputs": [],
   "source": [
    "df[\"Classes\"]=np.where(df[\"Classes\"]==\"not fire\",0,1)"
   ]
  },
  {
   "cell_type": "code",
   "execution_count": null,
   "id": "2d32a7a3",
   "metadata": {},
   "outputs": [],
   "source": [
    "df.to_csv(\"Cleaned_Algerian_forest_fires_dataset.csv\",index=False)"
   ]
  },
  {
   "cell_type": "code",
   "execution_count": null,
   "id": "450a0bce",
   "metadata": {},
   "outputs": [],
   "source": []
  },
  {
   "cell_type": "code",
   "execution_count": null,
   "id": "1a1dd70f",
   "metadata": {},
   "outputs": [],
   "source": []
  }
 ],
 "metadata": {
  "kernelspec": {
   "display_name": "base",
   "language": "python",
   "name": "python3"
  },
  "language_info": {
   "codemirror_mode": {
    "name": "ipython",
    "version": 3
   },
   "file_extension": ".py",
   "mimetype": "text/x-python",
   "name": "python",
   "nbconvert_exporter": "python",
   "pygments_lexer": "ipython3",
   "version": "3.12.7"
  }
 },
 "nbformat": 4,
 "nbformat_minor": 5
}
