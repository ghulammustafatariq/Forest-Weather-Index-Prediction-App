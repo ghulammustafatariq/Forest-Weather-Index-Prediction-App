{
 "cells": [
  {
   "cell_type": "code",
   "execution_count": null,
   "id": "1f216df5",
   "metadata": {},
   "outputs": [],
   "source": [
    "import pandas as pd\n",
    "import numpy as np\n",
    "import matplotlib.pyplot as plt\n",
    "import seaborn as sns"
   ]
  },
  {
   "cell_type": "code",
   "execution_count": null,
   "id": "71adc472",
   "metadata": {},
   "outputs": [],
   "source": [
    "df = pd.read_csv(\"Cleaned_Algerian_forest_fires_dataset.csv\")\n",
    "df.head()"
   ]
  },
  {
   "cell_type": "code",
   "execution_count": null,
   "id": "0ebbf47d",
   "metadata": {},
   "outputs": [],
   "source": [
    "df[\"Classes\"].value_counts()"
   ]
  },
  {
   "cell_type": "code",
   "execution_count": null,
   "id": "c36aef8b",
   "metadata": {},
   "outputs": [],
   "source": [
    "df=df.drop([\"day\",\"month\",\"year\"],axis=1)"
   ]
  },
  {
   "cell_type": "code",
   "execution_count": null,
   "id": "2fcf6c2b",
   "metadata": {},
   "outputs": [],
   "source": [
    "df.head()"
   ]
  },
  {
   "cell_type": "code",
   "execution_count": null,
   "id": "d3c951bc",
   "metadata": {},
   "outputs": [],
   "source": [
    "x=df.drop(\"FWI\",axis=1)\n",
    "y=df[\"FWI\"]"
   ]
  },
  {
   "cell_type": "code",
   "execution_count": null,
   "id": "d3901b7a",
   "metadata": {},
   "outputs": [],
   "source": [
    "from sklearn.model_selection import train_test_split\n",
    "x_train,x_test,y_train,y_test=train_test_split(x,y,test_size=0.2,random_state=42)\n"
   ]
  },
  {
   "cell_type": "code",
   "execution_count": null,
   "id": "da101a21",
   "metadata": {},
   "outputs": [],
   "source": [
    "## check for multicollinearity\n",
    "plt.figure(figsize=(10,7))\n",
    "sns.heatmap(x.corr(),annot=True)\n",
    "plt.show()\n"
   ]
  },
  {
   "cell_type": "code",
   "execution_count": null,
   "id": "e9100372",
   "metadata": {},
   "outputs": [],
   "source": [
    "## make function to detect features with high correlation\n",
    "def correlation(dataset,threshold):\n",
    "    col_corr=set() # set of all the names of correlated columns\n",
    "    corr_matrix=dataset.corr()\n",
    "    for i in range(len(corr_matrix.columns)):\n",
    "        for j in range(i):\n",
    "            if abs(corr_matrix.iloc[i,j])>threshold:\n",
    "                colname=corr_matrix.columns[i]  # getting the name of column\n",
    "                col_corr.add(colname)\n",
    "    return col_corr"
   ]
  },
  {
   "cell_type": "code",
   "execution_count": null,
   "id": "5f969100",
   "metadata": {},
   "outputs": [],
   "source": [
    "corr_features=correlation(x_train,0.85)"
   ]
  },
  {
   "cell_type": "code",
   "execution_count": null,
   "id": "ba9f427e",
   "metadata": {},
   "outputs": [],
   "source": [
    "print(\"correlated features:\",corr_features)"
   ]
  },
  {
   "cell_type": "code",
   "execution_count": null,
   "id": "bba84bc9",
   "metadata": {},
   "outputs": [],
   "source": [
    "x_train.drop(corr_features,axis=1,inplace=True)\n",
    "x_test.drop(corr_features,axis=1,inplace=True)\n",
    "x_train.shape, x_test.shape"
   ]
  },
  {
   "cell_type": "code",
   "execution_count": null,
   "id": "a812548f",
   "metadata": {},
   "outputs": [],
   "source": [
    "from sklearn.preprocessing import StandardScaler\n",
    "scaler=StandardScaler()\n",
    "x_train_scaled=scaler.fit_transform(x_train)\n",
    "x_test_scaled=scaler.transform(x_test)"
   ]
  },
  {
   "cell_type": "code",
   "execution_count": null,
   "id": "c5273b12",
   "metadata": {},
   "outputs": [],
   "source": [
    "## plot a box plots to seen the effect of scaling\n",
    "plt.figure(figsize=(12,6))\n",
    "plt.subplot(1,2,1)\n",
    "sns.boxplot(data=x_train)\n",
    "plt.title(\"Before Scaling\")\n",
    "plt.subplot(1,2,2)\n",
    "sns.boxplot(data=x_train_scaled)\n",
    "plt.title(\"After Scaling\")\n",
    "plt.show()"
   ]
  },
  {
   "cell_type": "code",
   "execution_count": null,
   "id": "43045b1d",
   "metadata": {},
   "outputs": [],
   "source": [
    "from sklearn.linear_model import LinearRegression\n",
    "from sklearn.metrics import mean_absolute_error,mean_squared_error,r2_score\n"
   ]
  },
  {
   "cell_type": "code",
   "execution_count": null,
   "id": "1f7d2b3e",
   "metadata": {},
   "outputs": [],
   "source": [
    "from sklearn.linear_model import LinearRegression\n",
    "from sklearn.metrics import mean_absolute_error\n",
    "from sklearn.metrics import r2_score\n",
    "linreg=LinearRegression()\n",
    "linreg.fit(x_train_scaled,y_train)\n",
    "y_pred=linreg.predict(x_test_scaled)\n",
    "mae=mean_absolute_error(y_test,y_pred)\n",
    "score=r2_score(y_test,y_pred)\n",
    "print(\"Mean absolute error\", mae)\n",
    "print(\"R2 Score\", score)\n",
    "plt.scatter(y_test,y_pred)\n",
    "plt.show()\n"
   ]
  },
  {
   "cell_type": "code",
   "execution_count": null,
   "id": "88156d83",
   "metadata": {},
   "outputs": [],
   "source": [
    "from sklearn.linear_model import Lasso\n",
    "lasso=Lasso()\n",
    "lasso.fit(x_train_scaled,y_train)\n",
    "y_pred=lasso.predict(x_test_scaled)\n",
    "mae=mean_absolute_error(y_test,y_pred)\n",
    "score=r2_score(y_test,y_pred)\n",
    "mse=mean_squared_error(y_test,y_pred)\n",
    "print(\"Mean absolute error\", mae)\n",
    "print(\"R2 Score\", score)\n",
    "print(\"Mean Squared error\", mse)\n",
    "plt.scatter(y_test,y_pred)\n",
    "plt.show()\n"
   ]
  },
  {
   "cell_type": "code",
   "execution_count": null,
   "id": "753ddbbf",
   "metadata": {},
   "outputs": [],
   "source": [
    "from sklearn.linear_model import Ridge\n",
    "ridge=Ridge()\n",
    "ridge.fit(x_train_scaled,y_train)\n",
    "y_pred=ridge.predict(x_test_scaled)\n",
    "mae=mean_absolute_error(y_test,y_pred)\n",
    "score=r2_score(y_test,y_pred)\n",
    "mse=mean_squared_error(y_test,y_pred)\n",
    "print(\"Mean absolute error\", mae)\n",
    "print(\"R2 Score\", score)\n",
    "print(\"Mean Squared error\", mse)\n",
    "plt.scatter(y_test,y_pred)\n",
    "plt.show()"
   ]
  },
  {
   "cell_type": "code",
   "execution_count": null,
   "id": "194edc9c",
   "metadata": {},
   "outputs": [],
   "source": [
    "from sklearn.linear_model import ElasticNet\n",
    "elasticnet=ElasticNet()\n",
    "elasticnet.fit(x_train_scaled,y_train)\n",
    "y_pred=elasticnet.predict(x_test_scaled)\n",
    "mae=mean_absolute_error(y_test,y_pred)\n",
    "score=r2_score(y_test,y_pred)\n",
    "mse=mean_squared_error(y_test,y_pred)\n",
    "print(\"Mean absolute error\", mae)\n",
    "print(\"R2 Score\", score)\n",
    "print(\"Mean Squared error\", mse)\n",
    "plt.scatter(y_test,y_pred)\n",
    "plt.show()"
   ]
  },
  {
   "cell_type": "markdown",
   "id": "ca297a0c",
   "metadata": {},
   "source": [
    "## Cross Validation"
   ]
  },
  {
   "cell_type": "code",
   "execution_count": null,
   "id": "f2f1c499",
   "metadata": {},
   "outputs": [],
   "source": [
    "from sklearn.linear_model import LassoCV\n",
    "lassocv=LassoCV(cv=5)\n",
    "lassocv.fit(x_train_scaled,y_train)\n",
    "y_pred=lassocv.predict(x_test_scaled)\n",
    "mae=mean_absolute_error(y_test,y_pred)\n",
    "score=r2_score(y_test,y_pred)\n",
    "mse=mean_squared_error(y_test,y_pred)\n",
    "print(\"Mean absolute error\", mae)\n",
    "print(\"R2 Score\", score)\n",
    "print(\"Mean Squared error\", mse)\n",
    "plt.scatter(y_test,y_pred)\n",
    "plt.show()"
   ]
  },
  {
   "cell_type": "code",
   "execution_count": null,
   "id": "49e9c668",
   "metadata": {},
   "outputs": [],
   "source": [
    "lassocv.alpha_  # best alpha value"
   ]
  },
  {
   "cell_type": "code",
   "execution_count": null,
   "id": "32794e1b",
   "metadata": {},
   "outputs": [],
   "source": [
    "from sklearn.linear_model import RidgeCV\n",
    "ridgecv=RidgeCV(cv=5)\n",
    "ridgecv.fit(x_train_scaled,y_train)\n",
    "y_pred=ridgecv.predict(x_test_scaled)\n",
    "mae=mean_absolute_error(y_test,y_pred)\n",
    "score=r2_score(y_test,y_pred)\n",
    "mse=mean_squared_error(y_test,y_pred)\n",
    "print(\"Mean absolute error\", mae)\n",
    "print(\"R2 Score\", score)\n",
    "print(\"Mean Squared error\", mse)\n",
    "plt.scatter(y_test,y_pred)\n",
    "plt.show()"
   ]
  },
  {
   "cell_type": "code",
   "execution_count": null,
   "id": "038bf521",
   "metadata": {},
   "outputs": [],
   "source": [
    "ridgecv.alpha_  # best alpha value"
   ]
  },
  {
   "cell_type": "code",
   "execution_count": null,
   "id": "2016058f",
   "metadata": {},
   "outputs": [],
   "source": [
    "ridgecv.get_params()"
   ]
  },
  {
   "cell_type": "code",
   "execution_count": null,
   "id": "a72a2ce1",
   "metadata": {},
   "outputs": [],
   "source": [
    "## apply elastic net cv algo\n",
    "from sklearn.linear_model import ElasticNetCV\n",
    "elasticnetcv=ElasticNetCV(cv=10)\n",
    "elasticnetcv.fit(x_train_scaled,y_train)\n",
    "y_pred=elasticnetcv.predict(x_test_scaled)\n",
    "mae=mean_absolute_error(y_test,y_pred)\n",
    "score=r2_score(y_test,y_pred)\n",
    "mse=mean_squared_error(y_test,y_pred)\n",
    "print(\"Mean absolute error\", mae)\n",
    "print(\"R2 Score\", score)\n",
    "print(\"Mean Squared error\", mse)\n",
    "plt.scatter(y_test,y_pred)\n",
    "plt.show()"
   ]
  },
  {
   "cell_type": "code",
   "execution_count": null,
   "id": "19f24ecf",
   "metadata": {},
   "outputs": [],
   "source": [
    "elasticnetcv.alpha_  # best alpha value\n",
    "elasticnetcv.alphas_\n",
    "elasticnetcv.l1_ratio_\n"
   ]
  },
  {
   "cell_type": "code",
   "execution_count": null,
   "id": "ea13b3fd",
   "metadata": {},
   "outputs": [],
   "source": [
    "elasticnetcv.get_params()"
   ]
  },
  {
   "cell_type": "code",
   "execution_count": null,
   "id": "bd62580a",
   "metadata": {},
   "outputs": [],
   "source": [
    "import pickle\n",
    "## save the model\n",
    "pickle.dump(ridgecv,open(\"model.pkl\",\"wb\"))"
   ]
  },
  {
   "cell_type": "code",
   "execution_count": null,
   "id": "8de5509a",
   "metadata": {},
   "outputs": [],
   "source": [
    "pickle.dump(scaler,open(\"scaler.pkl\",\"wb\"))"
   ]
  },
  {
   "cell_type": "code",
   "execution_count": null,
   "id": "2f86d6e0",
   "metadata": {},
   "outputs": [],
   "source": [
    "df.columns\n"
   ]
  },
  {
   "cell_type": "code",
   "execution_count": null,
   "id": "9d95a64c",
   "metadata": {},
   "outputs": [],
   "source": []
  }
 ],
 "metadata": {
  "kernelspec": {
   "display_name": "base",
   "language": "python",
   "name": "python3"
  },
  "language_info": {
   "codemirror_mode": {
    "name": "ipython",
    "version": 3
   },
   "file_extension": ".py",
   "mimetype": "text/x-python",
   "name": "python",
   "nbconvert_exporter": "python",
   "pygments_lexer": "ipython3",
   "version": "3.12.7"
  }
 },
 "nbformat": 4,
 "nbformat_minor": 5
}
